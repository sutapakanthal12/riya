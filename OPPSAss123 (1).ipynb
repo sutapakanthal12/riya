{
 "cells": [
  {
   "cell_type": "code",
   "execution_count": 1,
   "id": "f355e5fc-7802-4242-a60d-4e1be14611c4",
   "metadata": {},
   "outputs": [],
   "source": [
    "class bankaccount :\n",
    "    def openaccount(self):\n",
    "        name=input(\"Enter your name:\")\n",
    "        account_number=int(input(\"Enter account number:\"))\n",
    "        print(\"Open and account by taking name and account number\")\n",
    "        \n",
    "    def balance(self):\n",
    "        amount=int(input(\"Enter bank balance:\"))\n",
    "        print(\"Bank balance are :\",amount)\n",
    "        \n",
    "    def deposite(self):\n",
    "        pre_amount=int(input(\"Enter previous amount\"))\n",
    "        amount_dep=int(input(\"Enter the amount which are you want to deposite:\"))\n",
    "        total=int(pre_amount)+int(amount_dep)\n",
    "        print(\"I am trying to deposite an amount in my account:\",amount_dep)\n",
    "        print(\"After deposite the total amount is:\",total)\n",
    "        \n",
    "    def withdraw(self):\n",
    "        pr_amount=int(input(\"Enter previous amount\"))\n",
    "        amount_wth=int(input(\"Enter the amount which are you want to withdraw:\"))\n",
    "        total=int(pr_amount)-int(amount_wth)\n",
    "        print(\"I want to withdraw an amount with my account:\",amount_wth)\n",
    "        print(\"After withdraw the total amount is:\",total)\n",
    "        \n",
    "       \n",
    "        "
   ]
  },
  {
   "cell_type": "code",
   "execution_count": 2,
   "id": "14ec0365-9819-48a2-aebc-b7edb6094d7f",
   "metadata": {},
   "outputs": [],
   "source": [
    "act = bankaccount()"
   ]
  },
  {
   "cell_type": "code",
   "execution_count": 3,
   "id": "61aed89a-05ef-4654-b86d-f482af0086c5",
   "metadata": {},
   "outputs": [
    {
     "name": "stdin",
     "output_type": "stream",
     "text": [
      "Enter your name: Sutapa\n",
      "Enter account number: 23456789\n"
     ]
    },
    {
     "name": "stdout",
     "output_type": "stream",
     "text": [
      "Open and account by taking name and account number\n"
     ]
    }
   ],
   "source": [
    "act.openaccount()"
   ]
  },
  {
   "cell_type": "code",
   "execution_count": 4,
   "id": "865dea25-3d6b-434e-bb58-75ede8617610",
   "metadata": {},
   "outputs": [
    {
     "name": "stdin",
     "output_type": "stream",
     "text": [
      "Enter bank balance: 200000\n"
     ]
    },
    {
     "name": "stdout",
     "output_type": "stream",
     "text": [
      "Bank balance are : 200000\n"
     ]
    }
   ],
   "source": [
    "act.balance()"
   ]
  },
  {
   "cell_type": "code",
   "execution_count": 5,
   "id": "2c8654b8-673f-40fc-9c58-e818ea82d0a8",
   "metadata": {},
   "outputs": [
    {
     "name": "stdin",
     "output_type": "stream",
     "text": [
      "Enter previous amount 200000\n",
      "Enter the amount which are you want to deposite: 1000\n"
     ]
    },
    {
     "name": "stdout",
     "output_type": "stream",
     "text": [
      "I am trying to deposite an amount in my account: 1000\n",
      "After deposite the total amount is: 201000\n"
     ]
    }
   ],
   "source": [
    "act.deposite()"
   ]
  },
  {
   "cell_type": "code",
   "execution_count": 6,
   "id": "31197b25-09c7-4a6a-a8ad-0c5286f2e58e",
   "metadata": {},
   "outputs": [
    {
     "name": "stdin",
     "output_type": "stream",
     "text": [
      "Enter previous amount 20000\n",
      "Enter the amount which are you want to withdraw: 1000\n"
     ]
    },
    {
     "name": "stdout",
     "output_type": "stream",
     "text": [
      "I want to withdraw an amount with my account: 1000\n",
      "After withdraw the total amount is: 19000\n"
     ]
    }
   ],
   "source": [
    "act.withdraw()"
   ]
  },
  {
   "cell_type": "code",
   "execution_count": 7,
   "id": "de0b585d-dcd4-4c73-88e3-2ad1a69a42ce",
   "metadata": {},
   "outputs": [],
   "source": [
    "class Employee :\n",
    "    def details(self):\n",
    "        name=input(\"Enter employment name:\")\n",
    "        em_id=input(\"Enter the employment id:\")\n",
    "        salary=int(input(\"Enter the employment's salary:\"))\n",
    "        print(\"Name and emailid and salary:\",name,em_id,salary)\n",
    "       \n",
    "    def  em_bonus(self):\n",
    "        package = int (input(\"Enter the yearly package :\"))\n",
    "        total_salary=int(input(\"Enter total amount that employee get:\"))\n",
    "        bonus = int(total_salary)-int(package)\n",
    "        print(\"The yearly bonus is:\",bonus)"
   ]
  },
  {
   "cell_type": "code",
   "execution_count": 8,
   "id": "ab24722a-eb9b-429e-828b-105bfb922f2c",
   "metadata": {},
   "outputs": [],
   "source": [
    "emp = Employee()"
   ]
  },
  {
   "cell_type": "code",
   "execution_count": 9,
   "id": "73aa15d3-e567-4666-af94-c13abaf5817d",
   "metadata": {},
   "outputs": [
    {
     "name": "stdin",
     "output_type": "stream",
     "text": [
      "Enter employment name: Ram\n",
      "Enter the employment id: ram@24\n",
      "Enter the employment's salary: 40000\n"
     ]
    },
    {
     "name": "stdout",
     "output_type": "stream",
     "text": [
      "Name and emailid and salary: Ram ram@24 40000\n"
     ]
    }
   ],
   "source": [
    "emp.details()"
   ]
  },
  {
   "cell_type": "code",
   "execution_count": 10,
   "id": "66ac528b-9f58-40ac-a489-4bf601349265",
   "metadata": {},
   "outputs": [
    {
     "name": "stdin",
     "output_type": "stream",
     "text": [
      "Enter the yearly package : 480000\n",
      "Enter total amount that employee get: 500000\n"
     ]
    },
    {
     "name": "stdout",
     "output_type": "stream",
     "text": [
      "The yearly bonus is: 20000\n"
     ]
    }
   ],
   "source": [
    "emp.em_bonus()"
   ]
  },
  {
   "cell_type": "code",
   "execution_count": null,
   "id": "13600edc-ecea-48cf-b37c-7b419cc5b469",
   "metadata": {},
   "outputs": [],
   "source": []
  },
  {
   "cell_type": "code",
   "execution_count": null,
   "id": "dc752e66-39a1-4b5d-a866-7c8c84a0b2c0",
   "metadata": {},
   "outputs": [],
   "source": []
  }
 ],
 "metadata": {
  "kernelspec": {
   "display_name": "Python 3 (ipykernel)",
   "language": "python",
   "name": "python3"
  },
  "language_info": {
   "codemirror_mode": {
    "name": "ipython",
    "version": 3
   },
   "file_extension": ".py",
   "mimetype": "text/x-python",
   "name": "python",
   "nbconvert_exporter": "python",
   "pygments_lexer": "ipython3",
   "version": "3.10.8"
  }
 },
 "nbformat": 4,
 "nbformat_minor": 5
}
